{
  "nbformat": 4,
  "nbformat_minor": 0,
  "metadata": {
    "colab": {
      "name": "Control Structure.ipynb",
      "provenance": [],
      "authorship_tag": "ABX9TyPO3nfTUhS5N02bOEu81ZvT",
      "include_colab_link": true
    },
    "kernelspec": {
      "name": "python3",
      "display_name": "Python 3"
    },
    "language_info": {
      "name": "python"
    }
  },
  "cells": [
    {
      "cell_type": "markdown",
      "metadata": {
        "id": "view-in-github",
        "colab_type": "text"
      },
      "source": [
        "<a href=\"https://colab.research.google.com/github/wearlianbaguio/CPEN-21A-CPE-1-1/blob/main/Control_Structure.ipynb\" target=\"_parent\"><img src=\"https://colab.research.google.com/assets/colab-badge.svg\" alt=\"Open In Colab\"/></a>"
      ]
    },
    {
      "cell_type": "markdown",
      "metadata": {
        "id": "Fan9THYGsfiD"
      },
      "source": [
        "#Conditional Statement in Python"
      ]
    },
    {
      "cell_type": "markdown",
      "metadata": {
        "id": "Ubb4MxPvnRv7"
      },
      "source": [
        "##If Statement"
      ]
    },
    {
      "cell_type": "code",
      "metadata": {
        "colab": {
          "base_uri": "https://localhost:8080/"
        },
        "id": "lFgupCjKnVs2",
        "outputId": "ad732396-a675-4fe5-c4e8-70fa1549711a"
      },
      "source": [
        "a=12\n",
        "b=100\n",
        "\n",
        "if b>a:\n",
        "  print(\"b is greater than a\")"
      ],
      "execution_count": 7,
      "outputs": [
        {
          "output_type": "stream",
          "name": "stdout",
          "text": [
            "b is greater than a\n"
          ]
        }
      ]
    },
    {
      "cell_type": "markdown",
      "metadata": {
        "id": "ZdroPcUfo6R0"
      },
      "source": [
        "##Elif Condition"
      ]
    },
    {
      "cell_type": "code",
      "metadata": {
        "colab": {
          "base_uri": "https://localhost:8080/"
        },
        "id": "rMoCHBe_o8IL",
        "outputId": "e1dac08d-676a-41fb-803d-8fc1959a90f1"
      },
      "source": [
        "a=12\n",
        "b=12\n",
        "\n",
        "if b>a:\n",
        "  print(\"b is greater than a\")\n",
        "elif a==b:\n",
        "  print(\"a is equal to b\")"
      ],
      "execution_count": 8,
      "outputs": [
        {
          "output_type": "stream",
          "name": "stdout",
          "text": [
            "a is equal to b\n"
          ]
        }
      ]
    },
    {
      "cell_type": "markdown",
      "metadata": {
        "id": "MF0RCbKDplm0"
      },
      "source": [
        "##Else Statement"
      ]
    },
    {
      "cell_type": "code",
      "metadata": {
        "colab": {
          "base_uri": "https://localhost:8080/"
        },
        "id": "aiRPueifpnWr",
        "outputId": "9e41a1c8-ccd0-4f85-c65d-02befc398251"
      },
      "source": [
        "a=120\n",
        "b=12\n",
        "\n",
        "if b>a:\n",
        "  print(\"b is greater than a\")\n",
        "elif a==b:\n",
        "  print(\"a is equal to b\")\n",
        "else:\n",
        "  print(\"b is less than a\")"
      ],
      "execution_count": 53,
      "outputs": [
        {
          "output_type": "stream",
          "name": "stdout",
          "text": [
            "b is less than a\n"
          ]
        }
      ]
    },
    {
      "cell_type": "markdown",
      "metadata": {
        "id": "CTm5yES9qecC"
      },
      "source": [
        "##Short Hand If Statement"
      ]
    },
    {
      "cell_type": "code",
      "metadata": {
        "colab": {
          "base_uri": "https://localhost:8080/"
        },
        "id": "JxoUq6cCqhMk",
        "outputId": "962e5db8-cdb8-4b6f-f760-fdb475b3102b"
      },
      "source": [
        "if a>b: print(\"a is greater than b\")"
      ],
      "execution_count": 54,
      "outputs": [
        {
          "output_type": "stream",
          "name": "stdout",
          "text": [
            "a is greater than b\n"
          ]
        }
      ]
    },
    {
      "cell_type": "markdown",
      "metadata": {
        "id": "y_vWQm3ArTpV"
      },
      "source": [
        "##Short Hand If... Else Statement"
      ]
    },
    {
      "cell_type": "code",
      "metadata": {
        "colab": {
          "base_uri": "https://localhost:8080/"
        },
        "id": "J6OBLjF9rX2q",
        "outputId": "5ac8d23d-c715-4542-bd9e-4617955b9ccd"
      },
      "source": [
        "print(\"a is greater than b\") if a>b else print(\"b is greater than a\")  "
      ],
      "execution_count": 6,
      "outputs": [
        {
          "output_type": "stream",
          "name": "stdout",
          "text": [
            "a is greater than b\n"
          ]
        }
      ]
    },
    {
      "cell_type": "markdown",
      "metadata": {
        "id": "jGh5pm9us5Hz"
      },
      "source": [
        "And condition"
      ]
    },
    {
      "cell_type": "code",
      "metadata": {
        "colab": {
          "base_uri": "https://localhost:8080/"
        },
        "id": "qqx1Q17ZuVNy",
        "outputId": "09409f13-0618-4e4f-b448-9230c1a3fee2"
      },
      "source": [
        "a=15\n",
        "b=35\n",
        "\n",
        "if b>a and a<b:\n",
        "  print(\"Both conditions are True\")"
      ],
      "execution_count": 10,
      "outputs": [
        {
          "output_type": "stream",
          "name": "stdout",
          "text": [
            "Both conditions are True\n"
          ]
        }
      ]
    },
    {
      "cell_type": "code",
      "metadata": {
        "colab": {
          "base_uri": "https://localhost:8080/"
        },
        "id": "Njnt5KhJu58r",
        "outputId": "93cdfdb4-ab4f-4819-b979-39fb5c82af94"
      },
      "source": [
        "a=15\n",
        "b=35\n",
        "\n",
        "if b>a and a<b:\n",
        "  print(\"Both conditions are True\")\n",
        "elif b<a and a>b:\n",
        "  print(\"a is larger than b\")\n",
        "else:\n",
        "  print(\"none of the above\")"
      ],
      "execution_count": 11,
      "outputs": [
        {
          "output_type": "stream",
          "name": "stdout",
          "text": [
            "Both conditions are True\n"
          ]
        }
      ]
    },
    {
      "cell_type": "markdown",
      "metadata": {
        "id": "jQAp7e3nvRWi"
      },
      "source": [
        "Or Condition"
      ]
    },
    {
      "cell_type": "code",
      "metadata": {
        "colab": {
          "base_uri": "https://localhost:8080/"
        },
        "id": "LWPAB_iUvTc3",
        "outputId": "80a8d1e0-f660-4aee-ce2a-d641e6dafedc"
      },
      "source": [
        "a=15\n",
        "b=35\n",
        "\n",
        "if b>a or a==b:\n",
        "  print(\"True\")\n",
        "elif b==b or a>b:\n",
        "  print(\"Absolutely True\")\n",
        "else:\n",
        "  print(\"Nothing to compare\")"
      ],
      "execution_count": 12,
      "outputs": [
        {
          "output_type": "stream",
          "name": "stdout",
          "text": [
            "True\n"
          ]
        }
      ]
    },
    {
      "cell_type": "code",
      "metadata": {
        "colab": {
          "base_uri": "https://localhost:8080/"
        },
        "id": "9SDD-mrwwcHD",
        "outputId": "8d24338a-3113-4272-d8ae-b5e69a4e7b03"
      },
      "source": [
        "a=15\n",
        "b=35\n",
        "\n",
        "if b==a or a>b:\n",
        "  print(\"True\")\n",
        "else:\n",
        "  print(\"False\")"
      ],
      "execution_count": 14,
      "outputs": [
        {
          "output_type": "stream",
          "name": "stdout",
          "text": [
            "False\n"
          ]
        }
      ]
    },
    {
      "cell_type": "markdown",
      "metadata": {
        "id": "iuNpvwydw5a9"
      },
      "source": [
        "##Nested If"
      ]
    },
    {
      "cell_type": "code",
      "metadata": {
        "colab": {
          "base_uri": "https://localhost:8080/"
        },
        "id": "66Yn-Sb7w8J1",
        "outputId": "b5dfcd09-6445-4d87-c862-439af8b005af"
      },
      "source": [
        "x=41\n",
        "if x>10:\n",
        "  print(\"Above 10\")\n",
        "  if x>20:\n",
        "    print(\"Above 20\")\n",
        "    if x>30:\n",
        "      print(\"Above 30\")\n",
        "    else: \n",
        "      print(\"Not Above 30\")\n",
        "  else:\n",
        "    print(\"Not Above 20\")\n",
        "else: \n",
        "  print(\"Not Above 10\")\n",
        "   "
      ],
      "execution_count": 49,
      "outputs": [
        {
          "output_type": "stream",
          "name": "stdout",
          "text": [
            "Above 10\n",
            "Above 20\n",
            "Above 30\n"
          ]
        }
      ]
    },
    {
      "cell_type": "markdown",
      "metadata": {
        "id": "X3-0emSeyNGk"
      },
      "source": [
        "Application of If... Else Statement"
      ]
    },
    {
      "cell_type": "code",
      "metadata": {
        "colab": {
          "base_uri": "https://localhost:8080/"
        },
        "id": "CIsp6ik_yRkw",
        "outputId": "3f499381-ead0-458d-8a07-cef696b4f65a"
      },
      "source": [
        "#Example 1 \n",
        "\n",
        "age = 18\n",
        "\n",
        "if age>=18:\n",
        "  print(\"You are qualified to vote!\")\n",
        "else: \n",
        "  print(\"You are not qualified to vote!\")\n"
      ],
      "execution_count": 26,
      "outputs": [
        {
          "output_type": "stream",
          "name": "stdout",
          "text": [
            "You are qualified to vote!\n"
          ]
        }
      ]
    },
    {
      "cell_type": "code",
      "metadata": {
        "colab": {
          "base_uri": "https://localhost:8080/"
        },
        "id": "fCGVDJ0Lym9U",
        "outputId": "6a430e06-5beb-4cca-c969-06226c0f711a"
      },
      "source": [
        "age = 17\n",
        "\n",
        "if age>=18:\n",
        "  print(\"You are qualified to vote!\")\n",
        "else: \n",
        "  print(\"You are not qualified to vote!\")"
      ],
      "execution_count": 27,
      "outputs": [
        {
          "output_type": "stream",
          "name": "stdout",
          "text": [
            "You are not qualified to vote!\n"
          ]
        }
      ]
    },
    {
      "cell_type": "code",
      "metadata": {
        "colab": {
          "base_uri": "https://localhost:8080/"
        },
        "id": "AHGcKT5Uy2E2",
        "outputId": "4208e78b-1f94-4093-e487-0cc11ca4529a"
      },
      "source": [
        "age = int(input(\"Enter your Age:\"))\n",
        "\n",
        "if age>=18:\n",
        "  print(\"You are qualified to vote!\")\n",
        "else: \n",
        "  print(\"You are not qualified to vote!\")"
      ],
      "execution_count": 34,
      "outputs": [
        {
          "output_type": "stream",
          "name": "stdout",
          "text": [
            "Enter your Age:12\n",
            "You are not qualified to vote!\n"
          ]
        }
      ]
    },
    {
      "cell_type": "code",
      "metadata": {
        "colab": {
          "base_uri": "https://localhost:8080/"
        },
        "id": "9GIVXcuqzius",
        "outputId": "02f08ad9-bced-4087-fe50-179611421d3a"
      },
      "source": [
        "#Example 2 to check whether 0, negative or positive number\n",
        "number = int(input(\"Enter the number:\"))\n",
        "\n",
        "if number==0:\n",
        "  print(\"Zero\")\n",
        "elif number>0:\n",
        "  print(\"Positive\")\n",
        "else:\n",
        "  print(\"Negative\")"
      ],
      "execution_count": 42,
      "outputs": [
        {
          "output_type": "stream",
          "name": "stdout",
          "text": [
            "Enter the number:-1\n",
            "Negative\n"
          ]
        }
      ]
    },
    {
      "cell_type": "code",
      "metadata": {
        "colab": {
          "base_uri": "https://localhost:8080/"
        },
        "id": "2RdO_D030P-1",
        "outputId": "25699e23-dfd9-4227-a613-28afc1704fce"
      },
      "source": [
        "#Example 3\n",
        "grade = int(input(\"Enter your grade:\"))\n",
        "\n",
        "if grade>=75:\n",
        "  print(\"Passed\")\n",
        "elif grade==74:\n",
        "  print(\"Remedial\")\n",
        "else:\n",
        "  print(\"Failed\")"
      ],
      "execution_count": 48,
      "outputs": [
        {
          "output_type": "stream",
          "name": "stdout",
          "text": [
            "Enter your grade:95\n",
            "Passed\n"
          ]
        }
      ]
    }
  ]
}