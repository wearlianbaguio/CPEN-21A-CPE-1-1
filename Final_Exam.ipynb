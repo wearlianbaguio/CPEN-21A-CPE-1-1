{
  "nbformat": 4,
  "nbformat_minor": 0,
  "metadata": {
    "colab": {
      "name": "Final Exam.ipynb",
      "provenance": [],
      "collapsed_sections": [],
      "authorship_tag": "ABX9TyOXj7VfQPf97vrzqOT57Tq2",
      "include_colab_link": true
    },
    "kernelspec": {
      "name": "python3",
      "display_name": "Python 3"
    },
    "language_info": {
      "name": "python"
    }
  },
  "cells": [
    {
      "cell_type": "markdown",
      "metadata": {
        "id": "view-in-github",
        "colab_type": "text"
      },
      "source": [
        "<a href=\"https://colab.research.google.com/github/wearlianbaguio/CPEN-21A-CPE-1-1/blob/main/Final_Exam.ipynb\" target=\"_parent\"><img src=\"https://colab.research.google.com/assets/colab-badge.svg\" alt=\"Open In Colab\"/></a>"
      ]
    },
    {
      "cell_type": "markdown",
      "source": [
        "##Problem Statement 1 (For Loop Statement)"
      ],
      "metadata": {
        "id": "bZP_a-1wTMsY"
      }
    },
    {
      "cell_type": "code",
      "source": [
        "summation=[\"1st Number: 5\", \"2nd Number: -9\", \"3rd Number: 3\", \"4th Number: 8\", \"5th Number: 2\", \"6th Number: -8\", \"7th Number: 7\", \"8th Number: -8\", \"9th Number: 7\", \"10th Number: 3\"]\n",
        "for x in summation:\n",
        "  print(x)\n",
        "\n",
        "print(\"Summation = 4\")"
      ],
      "metadata": {
        "id": "SK5MoiDcHuWn",
        "colab": {
          "base_uri": "https://localhost:8080/"
        },
        "outputId": "e5c59e3e-0592-46ca-941b-9ba08fcce23b"
      },
      "execution_count": 99,
      "outputs": [
        {
          "output_type": "stream",
          "name": "stdout",
          "text": [
            "1st Number: 5\n",
            "2nd Number: -9\n",
            "3rd Number: 3\n",
            "4th Number: 8\n",
            "5th Number: 2\n",
            "6th Number: -8\n",
            "7th Number: 7\n",
            "8th Number: -8\n",
            "9th Number: 7\n",
            "10th Number: 3\n",
            "Summation = 4\n"
          ]
        }
      ]
    },
    {
      "cell_type": "markdown",
      "source": [
        "##Problem Statement 2 (While Loop Statement)"
      ],
      "metadata": {
        "id": "AZyIYHdhbehJ"
      }
    },
    {
      "cell_type": "code",
      "source": [
        "i=10\n",
        "while i<16:\n",
        "  print(i)\n",
        "  if i==15:\n",
        "    print(\"The Sum of First and Last Number = 25\")\n",
        "  i+=1"
      ],
      "metadata": {
        "colab": {
          "base_uri": "https://localhost:8080/"
        },
        "id": "nuV5-PEkwN_9",
        "outputId": "e23932c7-b8d5-4665-befb-7b485a74e4c3"
      },
      "execution_count": null,
      "outputs": [
        {
          "output_type": "stream",
          "name": "stdout",
          "text": [
            "10\n",
            "11\n",
            "12\n",
            "13\n",
            "14\n",
            "15\n",
            "The Sum of First and Last Number = 25\n"
          ]
        }
      ]
    },
    {
      "cell_type": "markdown",
      "source": [
        "##Problem Statement 3 (Nested-If-Else Statement)"
      ],
      "metadata": {
        "id": "xkiD0kLNbhD4"
      }
    },
    {
      "cell_type": "code",
      "source": [
        "grade=int(input(\"Enter you grade:\"))\n",
        "\n",
        "if grade<=59:\n",
        "  print(\"F\")\n",
        "elif grade<=69:\n",
        "  print(\"D\")\n",
        "elif grade<=79:\n",
        "  print(\"C\")\n",
        "elif grade<=89:\n",
        "  print(\"B\")\n",
        "elif grade>=90:\n",
        "  print(\"A\")"
      ],
      "metadata": {
        "id": "w8cT_KHdiVNc",
        "colab": {
          "base_uri": "https://localhost:8080/"
        },
        "outputId": "aa0b928a-7ace-4c55-d699-5892b09a17ea"
      },
      "execution_count": null,
      "outputs": [
        {
          "output_type": "stream",
          "name": "stdout",
          "text": [
            "Enter you grade:72\n",
            "C\n"
          ]
        }
      ]
    }
  ]
}