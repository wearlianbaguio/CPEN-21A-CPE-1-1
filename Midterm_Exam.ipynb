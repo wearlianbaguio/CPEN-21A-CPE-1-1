{
  "nbformat": 4,
  "nbformat_minor": 0,
  "metadata": {
    "colab": {
      "name": "Midterm Exam.ipynb",
      "provenance": [],
      "authorship_tag": "ABX9TyML01wqat8MJ07ZnplxBFmm",
      "include_colab_link": true
    },
    "kernelspec": {
      "name": "python3",
      "display_name": "Python 3"
    },
    "language_info": {
      "name": "python"
    }
  },
  "cells": [
    {
      "cell_type": "markdown",
      "metadata": {
        "id": "view-in-github",
        "colab_type": "text"
      },
      "source": [
        "<a href=\"https://colab.research.google.com/github/wearlianbaguio/CPEN-21A-CPE-1-1/blob/main/Midterm_Exam.ipynb\" target=\"_parent\"><img src=\"https://colab.research.google.com/assets/colab-badge.svg\" alt=\"Open In Colab\"/></a>"
      ]
    },
    {
      "cell_type": "markdown",
      "metadata": {
        "id": "R1V0d-_blNWW"
      },
      "source": [
        "#Midterm Exam\n",
        "\n"
      ]
    },
    {
      "cell_type": "markdown",
      "metadata": {
        "id": "aEz1W_J_lvom"
      },
      "source": [
        "###Problem Statement 1"
      ]
    },
    {
      "cell_type": "code",
      "metadata": {
        "colab": {
          "base_uri": "https://localhost:8080/"
        },
        "id": "Slhtp_QNiPWo",
        "outputId": "d4ea78c2-fdb4-456f-b63d-5f575100fb40"
      },
      "source": [
        "Fullname = \"Full Name: Wearl Ian G. Baguio\"\n",
        "Studentnumber = \"Student Number: 202101723\"\n",
        "Age = \"Age: 18\"\n",
        "Birthday = \"Brithday: June 30, 2003\"\n",
        "Address = \"Address: Block 9, Lot 11, Pluto Street Satellite II, Brgy. San Jose, Dasmariñas City Cavite\"\n",
        "Course = \"Course: Bacherlor of Science in Computer Engineering (BSCpE)\"\n",
        "LastSemGWA = \"Last Sem GWA: 93\"\n",
        "print(Fullname)\n",
        "print(Studentnumber)\n",
        "print(Age)\n",
        "print(Birthday)\n",
        "print(Address)\n",
        "print(Course)\n",
        "print(LastSemGWA)"
      ],
      "execution_count": 74,
      "outputs": [
        {
          "output_type": "stream",
          "name": "stdout",
          "text": [
            "Full Name: Wearl Ian G. Baguio\n",
            "Student Number: 202101723\n",
            "Age: 18\n",
            "Brithday: June 30, 2003\n",
            "Address: Block 9, Lot 11, Pluto Street Satellite II, Brgy. San Jose, Dasmariñas City Cavite\n",
            "Course: Bacherlor of Science in Computer Engineering (BSCpE)\n",
            "Last Sem GWA: 93\n"
          ]
        }
      ]
    },
    {
      "cell_type": "markdown",
      "metadata": {
        "id": "uq9sTIZRl2v1"
      },
      "source": [
        "###Problem Statement 2"
      ]
    },
    {
      "cell_type": "code",
      "metadata": {
        "colab": {
          "base_uri": "https://localhost:8080/"
        },
        "id": "xU_coZYBl-vO",
        "outputId": "62713607-e335-4b5b-d979-4da41eb3c0f0"
      },
      "source": [
        "n = 4 \n",
        "answ = \"Y\"\n",
        "print(n)\n",
        "print(answ)"
      ],
      "execution_count": 47,
      "outputs": [
        {
          "output_type": "stream",
          "name": "stdout",
          "text": [
            "4\n",
            "Y\n"
          ]
        }
      ]
    },
    {
      "cell_type": "code",
      "metadata": {
        "colab": {
          "base_uri": "https://localhost:8080/"
        },
        "id": "aVi6VB_lm0_O",
        "outputId": "792c7330-9fb4-44e8-8a92-40bb44b9619d"
      },
      "source": [
        "(2<n)and(n<6)"
      ],
      "execution_count": 51,
      "outputs": [
        {
          "output_type": "execute_result",
          "data": {
            "text/plain": [
              "True"
            ]
          },
          "metadata": {},
          "execution_count": 51
        }
      ]
    },
    {
      "cell_type": "code",
      "metadata": {
        "colab": {
          "base_uri": "https://localhost:8080/"
        },
        "id": "PxMT6L9ipjUW",
        "outputId": "fccf80ed-6afd-48a4-eada-a4b00543b93d"
      },
      "source": [
        "(2<n)or(n==6)"
      ],
      "execution_count": 41,
      "outputs": [
        {
          "output_type": "execute_result",
          "data": {
            "text/plain": [
              "True"
            ]
          },
          "metadata": {},
          "execution_count": 41
        }
      ]
    },
    {
      "cell_type": "code",
      "metadata": {
        "colab": {
          "base_uri": "https://localhost:8080/"
        },
        "id": "i_SNM1HMrj_P",
        "outputId": "4d9dd975-e275-4051-d8be-eee9b02de694"
      },
      "source": [
        "not(2<n)or(n==6)"
      ],
      "execution_count": 58,
      "outputs": [
        {
          "output_type": "execute_result",
          "data": {
            "text/plain": [
              "False"
            ]
          },
          "metadata": {},
          "execution_count": 58
        }
      ]
    },
    {
      "cell_type": "code",
      "metadata": {
        "colab": {
          "base_uri": "https://localhost:8080/"
        },
        "id": "yNlzHUFEppVt",
        "outputId": "3d33dda1-1571-4e55-9d28-a6866a35127e"
      },
      "source": [
        "not(n<6)"
      ],
      "execution_count": 44,
      "outputs": [
        {
          "output_type": "execute_result",
          "data": {
            "text/plain": [
              "False"
            ]
          },
          "metadata": {},
          "execution_count": 44
        }
      ]
    },
    {
      "cell_type": "code",
      "metadata": {
        "colab": {
          "base_uri": "https://localhost:8080/"
        },
        "id": "mC-sGb8PpzvO",
        "outputId": "bd40b739-125a-4a30-abb3-400503e3b7ce"
      },
      "source": [
        "(answ==\"Y\")or(answ==\"y\")"
      ],
      "execution_count": 49,
      "outputs": [
        {
          "output_type": "execute_result",
          "data": {
            "text/plain": [
              "True"
            ]
          },
          "metadata": {},
          "execution_count": 49
        }
      ]
    },
    {
      "cell_type": "code",
      "metadata": {
        "colab": {
          "base_uri": "https://localhost:8080/"
        },
        "id": "SnW-AqgfqVlW",
        "outputId": "1479b129-fc2f-4b6d-eff8-63b74183d680"
      },
      "source": [
        "(answ==\"Y\")and(answ==\"y\")"
      ],
      "execution_count": 50,
      "outputs": [
        {
          "output_type": "execute_result",
          "data": {
            "text/plain": [
              "False"
            ]
          },
          "metadata": {},
          "execution_count": 50
        }
      ]
    },
    {
      "cell_type": "code",
      "metadata": {
        "colab": {
          "base_uri": "https://localhost:8080/"
        },
        "id": "-vcEn0WvqfDW",
        "outputId": "92c3bfbf-5116-4b53-a9b9-2488dad56a02"
      },
      "source": [
        "not(answ==\"y\")"
      ],
      "execution_count": 52,
      "outputs": [
        {
          "output_type": "execute_result",
          "data": {
            "text/plain": [
              "True"
            ]
          },
          "metadata": {},
          "execution_count": 52
        }
      ]
    },
    {
      "cell_type": "code",
      "metadata": {
        "colab": {
          "base_uri": "https://localhost:8080/"
        },
        "id": "TCzuvp49qjfd",
        "outputId": "ad3431b0-ecce-4edb-d8b2-8e03df605c49"
      },
      "source": [
        "((2<n)and(n==5+1))or(answ==\"No\")"
      ],
      "execution_count": 53,
      "outputs": [
        {
          "output_type": "execute_result",
          "data": {
            "text/plain": [
              "False"
            ]
          },
          "metadata": {},
          "execution_count": 53
        }
      ]
    },
    {
      "cell_type": "code",
      "metadata": {
        "colab": {
          "base_uri": "https://localhost:8080/"
        },
        "id": "ZI9NFz7Nqvpm",
        "outputId": "1f8a1dff-19ff-4f8b-f46f-0ed770cdfd8c"
      },
      "source": [
        "((n==2)and(n==7))or(answ==\"Y\")"
      ],
      "execution_count": 55,
      "outputs": [
        {
          "output_type": "execute_result",
          "data": {
            "text/plain": [
              "True"
            ]
          },
          "metadata": {},
          "execution_count": 55
        }
      ]
    },
    {
      "cell_type": "code",
      "metadata": {
        "colab": {
          "base_uri": "https://localhost:8080/"
        },
        "id": "qtD07Zs3q3aF",
        "outputId": "c34e2ab3-2f5f-4709-a630-a390f6a9c0c9"
      },
      "source": [
        "(n==2)and((n==7)or(answ==\"Y\"))"
      ],
      "execution_count": 57,
      "outputs": [
        {
          "output_type": "execute_result",
          "data": {
            "text/plain": [
              "False"
            ]
          },
          "metadata": {},
          "execution_count": 57
        }
      ]
    },
    {
      "cell_type": "markdown",
      "metadata": {
        "id": "8HOgp2tdr3zO"
      },
      "source": [
        "###Problem Statement 3"
      ]
    },
    {
      "cell_type": "code",
      "metadata": {
        "colab": {
          "base_uri": "https://localhost:8080/"
        },
        "id": "iIriMVZQr53f",
        "outputId": "8c62b2c6-acac-42f1-9f5e-c8d28bd1773f"
      },
      "source": [
        "w = 7\n",
        "x = 2\n",
        "y = -3\n",
        "z = -10\n",
        "print(w)\n",
        "print(x)\n",
        "print(y)\n",
        "print(z)"
      ],
      "execution_count": 59,
      "outputs": [
        {
          "output_type": "stream",
          "name": "stdout",
          "text": [
            "7\n",
            "2\n",
            "-3\n",
            "-10\n"
          ]
        }
      ]
    },
    {
      "cell_type": "code",
      "metadata": {
        "colab": {
          "base_uri": "https://localhost:8080/"
        },
        "id": "EvvKkFKOsboF",
        "outputId": "bca33586-9b05-4459-da32-25541731ecdc"
      },
      "source": [
        "(w/y)  #a"
      ],
      "execution_count": 62,
      "outputs": [
        {
          "output_type": "execute_result",
          "data": {
            "text/plain": [
              "-2.3333333333333335"
            ]
          },
          "metadata": {},
          "execution_count": 62
        }
      ]
    },
    {
      "cell_type": "code",
      "metadata": {
        "colab": {
          "base_uri": "https://localhost:8080/"
        },
        "id": "d1ez5OyDsnZP",
        "outputId": "e199b832-a780-4d1c-91ba-01c4f2c32bdf"
      },
      "source": [
        "(w/y/x)  #b"
      ],
      "execution_count": 63,
      "outputs": [
        {
          "output_type": "execute_result",
          "data": {
            "text/plain": [
              "-1.1666666666666667"
            ]
          },
          "metadata": {},
          "execution_count": 63
        }
      ]
    },
    {
      "cell_type": "code",
      "metadata": {
        "colab": {
          "base_uri": "https://localhost:8080/"
        },
        "id": "6yuk2CLFs5PP",
        "outputId": "782be111-165f-4a0b-c2fc-612e9eb2620b"
      },
      "source": [
        "(z/y%x)  #c"
      ],
      "execution_count": 64,
      "outputs": [
        {
          "output_type": "execute_result",
          "data": {
            "text/plain": [
              "1.3333333333333335"
            ]
          },
          "metadata": {},
          "execution_count": 64
        }
      ]
    },
    {
      "cell_type": "code",
      "metadata": {
        "colab": {
          "base_uri": "https://localhost:8080/"
        },
        "id": "8SeyNS1ps_AR",
        "outputId": "3ab76c6e-284f-4c59-8e4c-1b723e807701"
      },
      "source": [
        "(x%-y*w)  #d"
      ],
      "execution_count": 65,
      "outputs": [
        {
          "output_type": "execute_result",
          "data": {
            "text/plain": [
              "14"
            ]
          },
          "metadata": {},
          "execution_count": 65
        }
      ]
    },
    {
      "cell_type": "code",
      "metadata": {
        "colab": {
          "base_uri": "https://localhost:8080/"
        },
        "id": "aPHTFy8Ft0B2",
        "outputId": "43320bab-840b-4e0b-cb5e-6ae772c1a928"
      },
      "source": [
        "(x%y)  #e"
      ],
      "execution_count": 66,
      "outputs": [
        {
          "output_type": "execute_result",
          "data": {
            "text/plain": [
              "-1"
            ]
          },
          "metadata": {},
          "execution_count": 66
        }
      ]
    },
    {
      "cell_type": "code",
      "metadata": {
        "colab": {
          "base_uri": "https://localhost:8080/"
        },
        "id": "U7g_uXxqt4Jn",
        "outputId": "d2c20d39-79e3-4702-bfd5-fcfe51903b05"
      },
      "source": [
        "(z%w-y/x*5+5)  #f"
      ],
      "execution_count": 67,
      "outputs": [
        {
          "output_type": "execute_result",
          "data": {
            "text/plain": [
              "16.5"
            ]
          },
          "metadata": {},
          "execution_count": 67
        }
      ]
    },
    {
      "cell_type": "code",
      "metadata": {
        "colab": {
          "base_uri": "https://localhost:8080/"
        },
        "id": "OLStniWgt-h-",
        "outputId": "fa8e24c8-2069-4d0f-f8e4-ade66e5ef99a"
      },
      "source": [
        "(9-x%(2+y))  #g"
      ],
      "execution_count": 72,
      "outputs": [
        {
          "output_type": "execute_result",
          "data": {
            "text/plain": [
              "9"
            ]
          },
          "metadata": {},
          "execution_count": 72
        }
      ]
    },
    {
      "cell_type": "code",
      "metadata": {
        "colab": {
          "base_uri": "https://localhost:8080/"
        },
        "id": "VZBwVENouDdW",
        "outputId": "e840d091-2c3a-4815-f8b0-2c774cb91134"
      },
      "source": [
        "(z//w)  #h"
      ],
      "execution_count": 69,
      "outputs": [
        {
          "output_type": "execute_result",
          "data": {
            "text/plain": [
              "-2"
            ]
          },
          "metadata": {},
          "execution_count": 69
        }
      ]
    },
    {
      "cell_type": "code",
      "metadata": {
        "colab": {
          "base_uri": "https://localhost:8080/"
        },
        "id": "Lo8ZnliWuLyf",
        "outputId": "ec46ed7c-1956-44c2-f7b2-5d8ec4b52c47"
      },
      "source": [
        "((2+y)**2)  #i"
      ],
      "execution_count": 73,
      "outputs": [
        {
          "output_type": "execute_result",
          "data": {
            "text/plain": [
              "1"
            ]
          },
          "metadata": {},
          "execution_count": 73
        }
      ]
    },
    {
      "cell_type": "code",
      "metadata": {
        "colab": {
          "base_uri": "https://localhost:8080/"
        },
        "id": "hmkLW0ZyuRCe",
        "outputId": "8e5c7b04-a4fc-4cbf-9934-a6e129701a42"
      },
      "source": [
        "(w/x*2)  #j"
      ],
      "execution_count": 71,
      "outputs": [
        {
          "output_type": "execute_result",
          "data": {
            "text/plain": [
              "7.0"
            ]
          },
          "metadata": {},
          "execution_count": 71
        }
      ]
    }
  ]
}