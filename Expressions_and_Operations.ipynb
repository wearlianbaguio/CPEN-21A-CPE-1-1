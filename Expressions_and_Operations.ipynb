{
  "nbformat": 4,
  "nbformat_minor": 0,
  "metadata": {
    "colab": {
      "name": "Expressions and Operations.ipynb",
      "provenance": [],
      "authorship_tag": "ABX9TyOtPYbOKb63fSu8tYtOwnTJ",
      "include_colab_link": true
    },
    "kernelspec": {
      "name": "python3",
      "display_name": "Python 3"
    },
    "language_info": {
      "name": "python"
    }
  },
  "cells": [
    {
      "cell_type": "markdown",
      "metadata": {
        "id": "view-in-github",
        "colab_type": "text"
      },
      "source": [
        "<a href=\"https://colab.research.google.com/github/wearlianbaguio/CPEN-21A-CPE-1-1/blob/main/Expressions_and_Operations.ipynb\" target=\"_parent\"><img src=\"https://colab.research.google.com/assets/colab-badge.svg\" alt=\"Open In Colab\"/></a>"
      ]
    },
    {
      "cell_type": "markdown",
      "metadata": {
        "id": "AeZQYT8XiweY"
      },
      "source": [
        "##Boolean Operations\n",
        "###Booleans represent on of two values: True or False "
      ]
    },
    {
      "cell_type": "code",
      "metadata": {
        "colab": {
          "base_uri": "https://localhost:8080/"
        },
        "id": "rer2RHrOjLBx",
        "outputId": "b4491b1f-758b-4ef9-e4b0-249377307a1d"
      },
      "source": [
        "print(10>9)\n",
        "print(10<9)\n",
        "print(10==9)\n",
        "print(10!=9)"
      ],
      "execution_count": 1,
      "outputs": [
        {
          "output_type": "stream",
          "name": "stdout",
          "text": [
            "True\n",
            "False\n",
            "False\n",
            "True\n"
          ]
        }
      ]
    },
    {
      "cell_type": "code",
      "metadata": {
        "colab": {
          "base_uri": "https://localhost:8080/"
        },
        "id": "k6lsYtS4jhq4",
        "outputId": "5567a72f-02b2-450b-d424-de40e42653ca"
      },
      "source": [
        "print(bool(True))\n",
        "print(bool(False))\n",
        "print(bool(1))\n",
        "print(bool(0))\n",
        "print(bool([]))\n",
        "print(bool(None))"
      ],
      "execution_count": 5,
      "outputs": [
        {
          "output_type": "stream",
          "name": "stdout",
          "text": [
            "True\n",
            "False\n",
            "True\n",
            "False\n",
            "False\n",
            "False\n"
          ]
        }
      ]
    },
    {
      "cell_type": "code",
      "metadata": {
        "colab": {
          "base_uri": "https://localhost:8080/"
        },
        "id": "NFxeVpUvkNNi",
        "outputId": "f994e69f-4c81-4057-a6f7-5735763e7996"
      },
      "source": [
        "def myFunction(): return False\n",
        "print(myFunction())"
      ],
      "execution_count": 8,
      "outputs": [
        {
          "output_type": "stream",
          "name": "stdout",
          "text": [
            "False\n"
          ]
        }
      ]
    },
    {
      "cell_type": "code",
      "metadata": {
        "colab": {
          "base_uri": "https://localhost:8080/"
        },
        "id": "E9dLewFlmYDz",
        "outputId": "1587c69c-e506-45c5-b1d3-02606c282db8"
      },
      "source": [
        "#Boolean answer of a function\n",
        "def myFunction(): return True\n",
        "print(myFunction())"
      ],
      "execution_count": 12,
      "outputs": [
        {
          "output_type": "stream",
          "name": "stdout",
          "text": [
            "True\n"
          ]
        }
      ]
    },
    {
      "cell_type": "code",
      "metadata": {
        "colab": {
          "base_uri": "https://localhost:8080/"
        },
        "id": "Cle73Ta4mVLg",
        "outputId": "cd6a352d-fa87-437a-81be-c4141a21873c"
      },
      "source": [
        "if myFunction():\n",
        "  print(\"Yes!\")\n",
        "else:\n",
        "  print(\"No!\")"
      ],
      "execution_count": 11,
      "outputs": [
        {
          "output_type": "stream",
          "name": "stdout",
          "text": [
            "Yes!\n"
          ]
        }
      ]
    },
    {
      "cell_type": "code",
      "metadata": {
        "colab": {
          "base_uri": "https://localhost:8080/"
        },
        "id": "fsI1t_HpmovZ",
        "outputId": "a2a1a7d1-40af-46c0-afbf-a92d03905938"
      },
      "source": [
        "a=6\n",
        "b=7\n",
        "print(a==b)\n",
        "print(a!=a)\n",
        "print(a>b)"
      ],
      "execution_count": 14,
      "outputs": [
        {
          "output_type": "stream",
          "name": "stdout",
          "text": [
            "False\n",
            "False\n",
            "False\n"
          ]
        }
      ]
    },
    {
      "cell_type": "markdown",
      "metadata": {
        "id": "wvPq7RdFt8oR"
      },
      "source": [
        "##Python Operators"
      ]
    },
    {
      "cell_type": "code",
      "metadata": {
        "colab": {
          "base_uri": "https://localhost:8080/"
        },
        "id": "yOXSltjynptA",
        "outputId": "53bca406-7470-41f8-c917-02afd5b02e6a"
      },
      "source": [
        "print(10+5)\n",
        "print(10-5)\n",
        "print(10*5)\n",
        "print(10/5)\n",
        "print(10//5)\n",
        "print(10/3)\n",
        "print(10//3)\n",
        "print(10%3)\n",
        "print(10**2)\n"
      ],
      "execution_count": 15,
      "outputs": [
        {
          "output_type": "stream",
          "name": "stdout",
          "text": [
            "15\n",
            "5\n",
            "50\n",
            "2.0\n",
            "2\n",
            "3.3333333333333335\n",
            "3\n",
            "1\n",
            "100\n"
          ]
        }
      ]
    },
    {
      "cell_type": "markdown",
      "metadata": {
        "id": "XPv9u5uLuDCy"
      },
      "source": [
        "##Python Bitwise Operators"
      ]
    },
    {
      "cell_type": "code",
      "metadata": {
        "colab": {
          "base_uri": "https://localhost:8080/"
        },
        "id": "5Ij9aFZYoDMg",
        "outputId": "aae3dd41-0e36-40c9-a03c-d8d8bdc7bd74"
      },
      "source": [
        "a=60\n",
        "b=13\n",
        "a&b\n",
        "a|b"
      ],
      "execution_count": 17,
      "outputs": [
        {
          "output_type": "execute_result",
          "data": {
            "text/plain": [
              "61"
            ]
          },
          "metadata": {},
          "execution_count": 17
        }
      ]
    },
    {
      "cell_type": "code",
      "metadata": {
        "colab": {
          "base_uri": "https://localhost:8080/"
        },
        "id": "JZ0ohBlroGuq",
        "outputId": "0ce27db5-852f-4285-e0bb-07a435b5ff5f"
      },
      "source": [
        "a=60\n",
        "b=13\n",
        "print(a&b)\n",
        "print(a|b)\n",
        "print(a<<1)\n",
        "print(a<<2)\n",
        "print(a>>1)"
      ],
      "execution_count": 20,
      "outputs": [
        {
          "output_type": "stream",
          "name": "stdout",
          "text": [
            "12\n",
            "61\n",
            "120\n",
            "240\n",
            "30\n"
          ]
        }
      ]
    },
    {
      "cell_type": "code",
      "metadata": {
        "colab": {
          "base_uri": "https://localhost:8080/"
        },
        "id": "i3HHmprBp-cz",
        "outputId": "59ab98d4-bc35-4b34-eb84-2a470f903856"
      },
      "source": [
        "a+=2\n",
        "print(a)"
      ],
      "execution_count": 21,
      "outputs": [
        {
          "output_type": "stream",
          "name": "stdout",
          "text": [
            "62\n"
          ]
        }
      ]
    },
    {
      "cell_type": "markdown",
      "metadata": {
        "id": "7vDvc-GDqem1"
      },
      "source": [
        "#Logical Operators"
      ]
    },
    {
      "cell_type": "code",
      "metadata": {
        "colab": {
          "base_uri": "https://localhost:8080/"
        },
        "id": "gS8ljCNjqioc",
        "outputId": "660b2206-1b7d-4e3f-94f5-976dc75e06bb"
      },
      "source": [
        "a=True\n",
        "b=False\n",
        "print(a and b)\n",
        "print(a or b)"
      ],
      "execution_count": 24,
      "outputs": [
        {
          "output_type": "stream",
          "name": "stdout",
          "text": [
            "False\n",
            "True\n"
          ]
        }
      ]
    },
    {
      "cell_type": "code",
      "metadata": {
        "colab": {
          "base_uri": "https://localhost:8080/"
        },
        "id": "IYvOE0rUsXn7",
        "outputId": "b3bd7ec9-bf7c-4886-bc7a-4f872652773b"
      },
      "source": [
        "a=60\n",
        "b=13\n",
        "\n",
        "(a>b)and(a<b)\n",
        "(a>b)or(a<b)\n",
        "not(a>b)"
      ],
      "execution_count": 30,
      "outputs": [
        {
          "output_type": "execute_result",
          "data": {
            "text/plain": [
              "False"
            ]
          },
          "metadata": {},
          "execution_count": 30
        }
      ]
    },
    {
      "cell_type": "code",
      "metadata": {
        "colab": {
          "base_uri": "https://localhost:8080/"
        },
        "id": "o16m7LKVtLqY",
        "outputId": "7335176d-9791-4855-a9cb-6b4d9dacd398"
      },
      "source": [
        "print(a is b)\n",
        "print(a is not b)"
      ],
      "execution_count": 31,
      "outputs": [
        {
          "output_type": "stream",
          "name": "stdout",
          "text": [
            "False\n",
            "True\n"
          ]
        }
      ]
    },
    {
      "cell_type": "code",
      "metadata": {
        "colab": {
          "base_uri": "https://localhost:8080/"
        },
        "id": "93Gg22shs_UP",
        "outputId": "d1e66676-e383-425e-dd91-df02f9c513ce"
      },
      "source": [
        "a=60\n",
        "b=60\n",
        "\n",
        "(a>b)and(a<b)\n",
        "(a>b)or(a<b)\n",
        "not(a>b)"
      ],
      "execution_count": 27,
      "outputs": [
        {
          "output_type": "execute_result",
          "data": {
            "text/plain": [
              "True"
            ]
          },
          "metadata": {},
          "execution_count": 27
        }
      ]
    },
    {
      "cell_type": "markdown",
      "metadata": {
        "id": "LuFB8nCatlqX"
      },
      "source": [
        "##Identity Operator"
      ]
    },
    {
      "cell_type": "code",
      "metadata": {
        "colab": {
          "base_uri": "https://localhost:8080/"
        },
        "id": "0iyq4T0rtC-l",
        "outputId": "2ff9d2a5-8401-41a7-cdcd-2c0d6053b880"
      },
      "source": [
        "print(a is b)\n",
        "print(a is not b)"
      ],
      "execution_count": 28,
      "outputs": [
        {
          "output_type": "stream",
          "name": "stdout",
          "text": [
            "True\n",
            "False\n"
          ]
        }
      ]
    }
  ]
}