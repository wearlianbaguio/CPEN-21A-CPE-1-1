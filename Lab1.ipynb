{
  "nbformat": 4,
  "nbformat_minor": 0,
  "metadata": {
    "colab": {
      "name": "Lab1.ipynb",
      "provenance": [],
      "authorship_tag": "ABX9TyNvHEYUjPeo+eO/uHBJKrEq",
      "include_colab_link": true
    },
    "kernelspec": {
      "name": "python3",
      "display_name": "Python 3"
    },
    "language_info": {
      "name": "python"
    }
  },
  "cells": [
    {
      "cell_type": "markdown",
      "metadata": {
        "id": "view-in-github",
        "colab_type": "text"
      },
      "source": [
        "<a href=\"https://colab.research.google.com/github/wearlianbaguio/CPEN-21A-CPE-1-1/blob/main/Lab1.ipynb\" target=\"_parent\"><img src=\"https://colab.research.google.com/assets/colab-badge.svg\" alt=\"Open In Colab\"/></a>"
      ]
    },
    {
      "cell_type": "markdown",
      "metadata": {
        "id": "vpso3FjDYgRb"
      },
      "source": [
        "#Laboratory 1"
      ]
    },
    {
      "cell_type": "code",
      "metadata": {
        "colab": {
          "base_uri": "https://localhost:8080/"
        },
        "id": "UPOH-y6zXe15",
        "outputId": "4f5e6196-2624-48be-b7fd-146cd39b1b00"
      },
      "source": [
        "x = \"Welcome to \"\n",
        "y = \"Phython Programming\"\n",
        "z = x+y\n",
        "print(z)"
      ],
      "execution_count": 2,
      "outputs": [
        {
          "output_type": "stream",
          "name": "stdout",
          "text": [
            "Welcome to Phython Programming\n"
          ]
        }
      ]
    },
    {
      "cell_type": "code",
      "metadata": {
        "colab": {
          "base_uri": "https://localhost:8080/"
        },
        "id": "3vhGcUb5ZMZK",
        "outputId": "074d662d-d8d6-4eb1-cdc1-72a918d2d3d3"
      },
      "source": [
        "Name,Address,Age = \"Name: Wearl Ian Baguio\", \"Address: Block9 Lot11, Pluto Street Satellite II, Barangay San Jose, Dasmariñas City Cavite\", \"Age: 18\"\n",
        "print(Name)\n",
        "print(Address)\n",
        "print(Age)"
      ],
      "execution_count": 5,
      "outputs": [
        {
          "output_type": "stream",
          "name": "stdout",
          "text": [
            "Name: Wearl Ian Baguio\n",
            "Address: Block9 Lot11, Pluto Street Satellite II, Barangay San Jose, Dasmariñas City Cavite\n",
            "Age: 18\n"
          ]
        }
      ]
    }
  ]
}