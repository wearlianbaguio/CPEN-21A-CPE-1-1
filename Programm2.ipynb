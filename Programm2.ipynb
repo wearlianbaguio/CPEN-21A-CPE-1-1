{
  "nbformat": 4,
  "nbformat_minor": 0,
  "metadata": {
    "colab": {
      "provenance": [],
      "authorship_tag": "ABX9TyOEccBgSPvoecdo0aZMnFZD",
      "include_colab_link": true
    },
    "kernelspec": {
      "name": "python3",
      "display_name": "Python 3"
    },
    "language_info": {
      "name": "python"
    }
  },
  "cells": [
    {
      "cell_type": "markdown",
      "metadata": {
        "id": "view-in-github",
        "colab_type": "text"
      },
      "source": [
        "<a href=\"https://colab.research.google.com/github/wearlianbaguio/CPEN-21A-CPE-1-1/blob/main/Programm2.ipynb\" target=\"_parent\"><img src=\"https://colab.research.google.com/assets/colab-badge.svg\" alt=\"Open In Colab\"/></a>"
      ]
    },
    {
      "cell_type": "code",
      "execution_count": 1,
      "metadata": {
        "colab": {
          "base_uri": "https://localhost:8080/"
        },
        "id": "ZbZGW1Zr3X6C",
        "outputId": "08432791-3718-4d1a-d935-474631923bb4"
      },
      "outputs": [
        {
          "output_type": "stream",
          "name": "stdout",
          "text": [
            "Select level of difficulty (easy, medium, hard): easy\n",
            "What is 7 % 3? 1\n",
            "Correct!\n",
            "What is 4 * 2? 1\n",
            "Incorrect!\n",
            "What is 5 - 3? 1\n",
            "What is 8 / 4? 1\n",
            "Incorrect!\n",
            "Incorrect!\n",
            "What is 2 + 2? 1\n",
            "Incorrect!\n",
            "Your score is 1 out of 5.\n"
          ]
        }
      ],
      "source": [
        "import random\n",
        "\n",
        "\n",
        "def math_quiz():\n",
        "    score = 0\n",
        "    questions = [\n",
        "        # Easy Level\n",
        "        [\n",
        "            {\"question\": \"What is 2 + 2?\", \"answer\": 4},\n",
        "            {\"question\": \"What is 5 - 3?\", \"answer\": 2},\n",
        "            {\"question\": \"What is 4 * 2?\", \"answer\": 8},\n",
        "            {\"question\": \"What is 8 / 4?\", \"answer\": 2},\n",
        "            {\"question\": \"What is 7 % 3?\", \"answer\": 1},\n",
        "        ],\n",
        "        #Medium Level\n",
        "        [\n",
        "            {\"question\": \"What is 7 % 3?\", \"answer\": 12},\n",
        "            {\"question\": \"What is (5 + 2) * 3?\", \"answer\": 21},\n",
        "            {\"question\": \"What is 4 * 3 - 2?\", \"answer\": 10},\n",
        "            {\"question\": \"What is 8 / 4 + 2?\", \"answer\": 4},\n",
        "            {\"question\": \"What is 7 % 4?\", \"answer\": 3},\n",
        "        ],\n",
        "        #Hard Level\n",
        "        [\n",
        "            {\"question\": \"What is (3 + 4) * (2 + 5)?\", \"answer\": 49},\n",
        "            {\"question\": \"What is (5 + 2) * (3 + 4)?\", \"answer\": 49},\n",
        "            {\"question\": \"What is (4 + 3) - (2 + 1)?\", \"answer\": 9},\n",
        "            {\"question\": \"What is (8 / 4) + (2 * 3)?\", \"answer\": 8},\n",
        "            {\"question\": \"What is (7 % 4) * (6 + 3)?\", \"answer\": 27},\n",
        "        ],\n",
        "    ]\n",
        "\n",
        "    level = input(\"Select level of difficulty (easy, medium, hard): \")\n",
        "    level = level.lower()\n",
        "    if level == \"easy\":\n",
        "        level_index = 0\n",
        "    elif level == \"medium\":\n",
        "        level_index = 1\n",
        "    elif level == \"hard\":\n",
        "        level_index = 2\n",
        "    else:\n",
        "        print(\"Invalid level selection\")\n",
        "        return\n",
        "\n",
        "    random.shuffle(questions[level_index])\n",
        "    for question in questions[level_index]:\n",
        "        user_answer = input(question[\"question\"] + \" \")\n",
        "        if int(user_answer) == question[\"answer\"]:\n",
        "            score +=1\n",
        "            print(\"Correct!\")\n",
        "        else:\n",
        "            print(\"Incorrect!\")\n",
        "    print(f\"Your score is {score} out of {len(questions[level_index])}.\")\n",
        "math_quiz()"
      ]
    }
  ]
}